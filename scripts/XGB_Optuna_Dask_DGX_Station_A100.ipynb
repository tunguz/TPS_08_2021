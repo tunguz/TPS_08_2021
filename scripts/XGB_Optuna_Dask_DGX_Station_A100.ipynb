{
 "cells": [
  {
   "cell_type": "code",
   "execution_count": 1,
   "id": "d2d4611d-4c94-41e9-8232-3a696546e192",
   "metadata": {},
   "outputs": [],
   "source": [
    "import os\n",
    "#os.environ[\"CUDA_DEVICE_ORDER\"]=\"PCI_BUS_ID\"\n",
    "#os.environ[\"CUDA_VISIBLE_DEVICES\"]=\"0, 1, 2, 4\""
   ]
  },
  {
   "cell_type": "code",
   "execution_count": 2,
   "id": "60177a88-7bbb-488d-8cb0-ad69bf49f1b2",
   "metadata": {},
   "outputs": [
    {
     "name": "stderr",
     "output_type": "stream",
     "text": [
      "/home/tunguz/.local/lib/python3.8/site-packages/tqdm/auto.py:22: TqdmWarning: IProgress not found. Please update jupyter and ipywidgets. See https://ipywidgets.readthedocs.io/en/stable/user_install.html\n",
      "  from .autonotebook import tqdm as notebook_tqdm\n"
     ]
    },
    {
     "data": {
      "text/plain": [
       "'1.6.0rc1'"
      ]
     },
     "execution_count": 2,
     "metadata": {},
     "output_type": "execute_result"
    }
   ],
   "source": [
    "from dask.distributed import Client\n",
    "from dask_cuda import LocalCUDACluster\n",
    "from dask import dataframe as dd\n",
    "import pandas as pd\n",
    "import xgboost as xgb\n",
    "from sklearn.model_selection import KFold, train_test_split\n",
    "from sklearn.metrics import mean_squared_error\n",
    "from sklearn.preprocessing import StandardScaler\n",
    "from sklearn.preprocessing import LabelEncoder\n",
    "import optuna\n",
    "import gc\n",
    "xgb.__version__"
   ]
  },
  {
   "cell_type": "code",
   "execution_count": 3,
   "id": "3563b085-9b85-49d1-bd52-adf0746b18e7",
   "metadata": {},
   "outputs": [
    {
     "name": "stdout",
     "output_type": "stream",
     "text": [
      "Fri Apr 22 15:49:53 2022       \n",
      "+-----------------------------------------------------------------------------+\n",
      "| NVIDIA-SMI 495.29.05    Driver Version: 495.29.05    CUDA Version: 11.5     |\n",
      "|-------------------------------+----------------------+----------------------+\n",
      "| GPU  Name        Persistence-M| Bus-Id        Disp.A | Volatile Uncorr. ECC |\n",
      "| Fan  Temp  Perf  Pwr:Usage/Cap|         Memory-Usage | GPU-Util  Compute M. |\n",
      "|                               |                      |               MIG M. |\n",
      "|===============================+======================+======================|\n",
      "|   0  NVIDIA A100-SXM...  On   | 00000000:01:00.0 Off |                    0 |\n",
      "| N/A   33C    P0    59W / 275W |     14MiB / 81251MiB |      0%      Default |\n",
      "|                               |                      |             Disabled |\n",
      "+-------------------------------+----------------------+----------------------+\n",
      "|   1  NVIDIA A100-SXM...  On   | 00000000:47:00.0 Off |                    0 |\n",
      "| N/A   33C    P0    60W / 275W |     14MiB / 81251MiB |      0%      Default |\n",
      "|                               |                      |             Disabled |\n",
      "+-------------------------------+----------------------+----------------------+\n",
      "|   2  NVIDIA A100-SXM...  On   | 00000000:81:00.0 Off |                    0 |\n",
      "| N/A   33C    P0    59W / 275W |     14MiB / 81251MiB |      0%      Default |\n",
      "|                               |                      |             Disabled |\n",
      "+-------------------------------+----------------------+----------------------+\n",
      "|   3  NVIDIA DGX Display  On   | 00000000:C1:00.0 Off |                  N/A |\n",
      "| 34%   36C    P8    N/A /  50W |     15MiB /  3911MiB |      0%      Default |\n",
      "|                               |                      |                  N/A |\n",
      "+-------------------------------+----------------------+----------------------+\n",
      "|   4  NVIDIA A100-SXM...  On   | 00000000:C2:00.0 Off |                    0 |\n",
      "| N/A   33C    P0    57W / 275W |     14MiB / 81251MiB |      0%      Default |\n",
      "|                               |                      |             Disabled |\n",
      "+-------------------------------+----------------------+----------------------+\n",
      "                                                                               \n",
      "+-----------------------------------------------------------------------------+\n",
      "| Processes:                                                                  |\n",
      "|  GPU   GI   CI        PID   Type   Process name                  GPU Memory |\n",
      "|        ID   ID                                                   Usage      |\n",
      "|=============================================================================|\n",
      "|    0   N/A  N/A      5094      G   /usr/lib/xorg/Xorg                  4MiB |\n",
      "|    0   N/A  N/A     96044      G   /usr/lib/xorg/Xorg                  4MiB |\n",
      "|    0   N/A  N/A     96525      G   /usr/lib/xorg/Xorg                  4MiB |\n",
      "|    1   N/A  N/A      5094      G   /usr/lib/xorg/Xorg                  4MiB |\n",
      "|    1   N/A  N/A     96044      G   /usr/lib/xorg/Xorg                  4MiB |\n",
      "|    1   N/A  N/A     96525      G   /usr/lib/xorg/Xorg                  4MiB |\n",
      "|    2   N/A  N/A      5094      G   /usr/lib/xorg/Xorg                  4MiB |\n",
      "|    2   N/A  N/A     96044      G   /usr/lib/xorg/Xorg                  4MiB |\n",
      "|    2   N/A  N/A     96525      G   /usr/lib/xorg/Xorg                  4MiB |\n",
      "|    3   N/A  N/A      5094      G   /usr/lib/xorg/Xorg                  4MiB |\n",
      "|    3   N/A  N/A     96044      G   /usr/lib/xorg/Xorg                  4MiB |\n",
      "|    3   N/A  N/A     96525      G   /usr/lib/xorg/Xorg                  4MiB |\n",
      "|    4   N/A  N/A      5094      G   /usr/lib/xorg/Xorg                  4MiB |\n",
      "|    4   N/A  N/A     96044      G   /usr/lib/xorg/Xorg                  4MiB |\n",
      "|    4   N/A  N/A     96525      G   /usr/lib/xorg/Xorg                  4MiB |\n",
      "+-----------------------------------------------------------------------------+\n"
     ]
    }
   ],
   "source": [
    "!nvidia-smi"
   ]
  },
  {
   "cell_type": "code",
   "execution_count": 4,
   "id": "566dfc64-be62-4998-bd5d-af9447a52d68",
   "metadata": {},
   "outputs": [
    {
     "name": "stdout",
     "output_type": "stream",
     "text": [
      "GPU 0: NVIDIA A100-SXM-80GB (UUID: GPU-a19c00c3-2832-fe38-1c43-c18db3e909da)\n",
      "GPU 1: NVIDIA A100-SXM-80GB (UUID: GPU-58b97c92-e879-49d3-85b5-1d9615f10873)\n",
      "GPU 2: NVIDIA A100-SXM-80GB (UUID: GPU-d21cfed4-2e1a-f313-839c-ea008aca027a)\n",
      "GPU 3: NVIDIA DGX Display (UUID: GPU-bda05ff2-94b1-c885-24f7-586c8f86b408)\n",
      "GPU 4: NVIDIA A100-SXM-80GB (UUID: GPU-e3b349d7-ac6c-77ab-3564-ed9d05d50bac)\n"
     ]
    }
   ],
   "source": [
    "!nvidia-smi -L"
   ]
  },
  {
   "cell_type": "code",
   "execution_count": 5,
   "id": "7e2c2535-8201-4d69-b7ff-707d872f902e",
   "metadata": {},
   "outputs": [],
   "source": [
    "train_x = dd.read_csv('../../TPS_2021/input/tabular-playground-series-aug-2021/xgtrain.csv')\n",
    "test_x = dd.read_csv('../../TPS_2021/input/tabular-playground-series-aug-2021/xgval.csv')"
   ]
  },
  {
   "cell_type": "code",
   "execution_count": 6,
   "id": "5831ab14-da42-412f-9708-0637b883ffee",
   "metadata": {},
   "outputs": [],
   "source": [
    "train_y = train_x['target']\n",
    "train_x = train_x[train_x.columns.difference(['target'])]\n",
    "\n",
    "test_y = test_x['target']\n",
    "test_x = test_x[test_x.columns.difference(['target'])]"
   ]
  },
  {
   "cell_type": "code",
   "execution_count": 7,
   "id": "e2770579-2e6a-4e9c-a3cc-b8cc69b2e64f",
   "metadata": {},
   "outputs": [
    {
     "name": "stderr",
     "output_type": "stream",
     "text": [
      "2022-04-22 15:50:53,748 - distributed.preloading - INFO - Import preload module: dask_cuda.initialize\n",
      "2022-04-22 15:50:53,759 - distributed.preloading - INFO - Import preload module: dask_cuda.initialize\n",
      "2022-04-22 15:50:53,802 - distributed.preloading - INFO - Import preload module: dask_cuda.initialize\n",
      "2022-04-22 15:50:53,805 - distributed.preloading - INFO - Import preload module: dask_cuda.initialize\n"
     ]
    }
   ],
   "source": [
    "cluster = LocalCUDACluster(CUDA_VISIBLE_DEVICES=[\"GPU-a19c00c3-2832-fe38-1c43-c18db3e909da\",\n",
    "                                                 \"GPU-58b97c92-e879-49d3-85b5-1d9615f10873\",\n",
    "                                                 \"GPU-d21cfed4-2e1a-f313-839c-ea008aca027a\",\n",
    "                                                 \"GPU-e3b349d7-ac6c-77ab-3564-ed9d05d50bac\"])\n",
    "client = Client(cluster)"
   ]
  },
  {
   "cell_type": "code",
   "execution_count": 8,
   "id": "8e385996-f835-416f-9e21-3a697ed42eb3",
   "metadata": {},
   "outputs": [
    {
     "name": "stdout",
     "output_type": "stream",
     "text": [
      "Fri Apr 22 15:51:04 2022       \n",
      "+-----------------------------------------------------------------------------+\n",
      "| NVIDIA-SMI 495.29.05    Driver Version: 495.29.05    CUDA Version: 11.5     |\n",
      "|-------------------------------+----------------------+----------------------+\n",
      "| GPU  Name        Persistence-M| Bus-Id        Disp.A | Volatile Uncorr. ECC |\n",
      "| Fan  Temp  Perf  Pwr:Usage/Cap|         Memory-Usage | GPU-Util  Compute M. |\n",
      "|                               |                      |               MIG M. |\n",
      "|===============================+======================+======================|\n",
      "|   0  NVIDIA A100-SXM...  On   | 00000000:01:00.0 Off |                    0 |\n",
      "| N/A   34C    P0    62W / 275W |    428MiB / 81251MiB |      0%      Default |\n",
      "|                               |                      |             Disabled |\n",
      "+-------------------------------+----------------------+----------------------+\n",
      "|   1  NVIDIA A100-SXM...  On   | 00000000:47:00.0 Off |                    0 |\n",
      "| N/A   33C    P0    63W / 275W |    428MiB / 81251MiB |      0%      Default |\n",
      "|                               |                      |             Disabled |\n",
      "+-------------------------------+----------------------+----------------------+\n",
      "|   2  NVIDIA A100-SXM...  On   | 00000000:81:00.0 Off |                    0 |\n",
      "| N/A   33C    P0    62W / 275W |    428MiB / 81251MiB |      0%      Default |\n",
      "|                               |                      |             Disabled |\n",
      "+-------------------------------+----------------------+----------------------+\n",
      "|   3  NVIDIA DGX Display  On   | 00000000:C1:00.0 Off |                  N/A |\n",
      "| 34%   36C    P8    N/A /  50W |     15MiB /  3911MiB |      0%      Default |\n",
      "|                               |                      |                  N/A |\n",
      "+-------------------------------+----------------------+----------------------+\n",
      "|   4  NVIDIA A100-SXM...  On   | 00000000:C2:00.0 Off |                    0 |\n",
      "| N/A   33C    P0    60W / 275W |    428MiB / 81251MiB |      0%      Default |\n",
      "|                               |                      |             Disabled |\n",
      "+-------------------------------+----------------------+----------------------+\n",
      "                                                                               \n",
      "+-----------------------------------------------------------------------------+\n",
      "| Processes:                                                                  |\n",
      "|  GPU   GI   CI        PID   Type   Process name                  GPU Memory |\n",
      "|        ID   ID                                                   Usage      |\n",
      "|=============================================================================|\n",
      "|    0   N/A  N/A      5094      G   /usr/lib/xorg/Xorg                  4MiB |\n",
      "|    0   N/A  N/A     96044      G   /usr/lib/xorg/Xorg                  4MiB |\n",
      "|    0   N/A  N/A     96525      G   /usr/lib/xorg/Xorg                  4MiB |\n",
      "|    0   N/A  N/A   3520218      C   /usr/bin/python3                  411MiB |\n",
      "|    1   N/A  N/A      5094      G   /usr/lib/xorg/Xorg                  4MiB |\n",
      "|    1   N/A  N/A     96044      G   /usr/lib/xorg/Xorg                  4MiB |\n",
      "|    1   N/A  N/A     96525      G   /usr/lib/xorg/Xorg                  4MiB |\n",
      "|    1   N/A  N/A   3520224      C   /usr/bin/python3                  411MiB |\n",
      "|    2   N/A  N/A      5094      G   /usr/lib/xorg/Xorg                  4MiB |\n",
      "|    2   N/A  N/A     96044      G   /usr/lib/xorg/Xorg                  4MiB |\n",
      "|    2   N/A  N/A     96525      G   /usr/lib/xorg/Xorg                  4MiB |\n",
      "|    2   N/A  N/A   3520226      C   /usr/bin/python3                  411MiB |\n",
      "|    3   N/A  N/A      5094      G   /usr/lib/xorg/Xorg                  4MiB |\n",
      "|    3   N/A  N/A     96044      G   /usr/lib/xorg/Xorg                  4MiB |\n",
      "|    3   N/A  N/A     96525      G   /usr/lib/xorg/Xorg                  4MiB |\n",
      "|    4   N/A  N/A      5094      G   /usr/lib/xorg/Xorg                  4MiB |\n",
      "|    4   N/A  N/A     96044      G   /usr/lib/xorg/Xorg                  4MiB |\n",
      "|    4   N/A  N/A     96525      G   /usr/lib/xorg/Xorg                  4MiB |\n",
      "|    4   N/A  N/A   3520221      C   /usr/bin/python3                  411MiB |\n",
      "+-----------------------------------------------------------------------------+\n"
     ]
    }
   ],
   "source": [
    "!nvidia-smi"
   ]
  },
  {
   "cell_type": "code",
   "execution_count": 9,
   "id": "84e3851a-42d4-4f36-aaf5-7a0ed0ac9b62",
   "metadata": {},
   "outputs": [],
   "source": [
    "dtrain = xgb.dask.DaskDMatrix(client, train_x, train_y)\n",
    "dtest = xgb.dask.DaskDMatrix(client, test_x, test_y)"
   ]
  },
  {
   "cell_type": "code",
   "execution_count": 10,
   "id": "0af30955-9d3e-47a3-a3ae-f41791c6e272",
   "metadata": {},
   "outputs": [],
   "source": [
    "num_round = 1000\n",
    "\n",
    "def objective(trial):\n",
    "        \n",
    "    params = {\n",
    "        'objective': trial.suggest_categorical('objective',['reg:squarederror']), \n",
    "        'tree_method': trial.suggest_categorical('tree_method',['gpu_hist']),  # 'gpu_hist','hist'\n",
    "        'lambda': trial.suggest_loguniform('lambda',1e-3,10.0),\n",
    "        'alpha': trial.suggest_loguniform('alpha',1e-3,10.0),\n",
    "        'colsample_bytree': trial.suggest_uniform('colsample_bytree', 0.3,1.0),\n",
    "        'subsample': trial.suggest_uniform('subsample', 0.4, 1.0),\n",
    "        'learning_rate': trial.suggest_loguniform('learning_rate', 0.001,0.1),\n",
    "        #'n_estimators': trial.suggest_categorical('n_estimators', [1000]),\n",
    "        'max_depth': trial.suggest_categorical('max_depth', [3,5,7,9,11,13,15,17,20]),\n",
    "        #'random_state': trial.suggest_categorical('random_state', [24,48,2020]),\n",
    "        'min_child_weight': trial.suggest_int('min_child_weight', 1,300),\n",
    "        'eval_metric': trial.suggest_categorical('eval_metric',['rmse']),\n",
    "\n",
    "    }\n",
    "\n",
    "    output = xgb.dask.train(client, params, dtrain, num_round)\n",
    "    \n",
    "    booster = output['booster']  # booster is the trained model\n",
    "    booster.set_param({'predictor': 'gpu_predictor'})\n",
    "\n",
    "    predictions = xgb.dask.predict(client, booster, dtest)\n",
    "    \n",
    "    predictions = predictions.compute()\n",
    "\n",
    "    rmse = mean_squared_error(test_y, predictions, squared=False)\n",
    "    \n",
    "    return rmse"
   ]
  },
  {
   "cell_type": "code",
   "execution_count": 11,
   "id": "aabf0433-9ed3-4c99-982b-edaa094508c0",
   "metadata": {},
   "outputs": [
    {
     "name": "stderr",
     "output_type": "stream",
     "text": [
      "\u001b[32m[I 2022-04-22 15:52:03,219]\u001b[0m A new study created in memory with name: no-name-738411eb-bee1-404b-8bdc-19bcec8be514\u001b[0m\n"
     ]
    }
   ],
   "source": [
    "study = optuna.create_study(direction='minimize')"
   ]
  },
  {
   "cell_type": "code",
   "execution_count": 12,
   "id": "4eec34aa-c4a3-4bb9-b133-886a34b0df29",
   "metadata": {},
   "outputs": [
    {
     "name": "stderr",
     "output_type": "stream",
     "text": [
      "[15:52:13] task [xgboost.dask]:tcp://127.0.0.1:34345 got new rank 0\n",
      "[15:52:13] task [xgboost.dask]:tcp://127.0.0.1:35441 got new rank 1\n",
      "[15:52:13] task [xgboost.dask]:tcp://127.0.0.1:46483 got new rank 2\n",
      "[15:52:13] task [xgboost.dask]:tcp://127.0.0.1:33817 got new rank 3\n",
      "\u001b[32m[I 2022-04-22 15:54:28,099]\u001b[0m Trial 0 finished with value: 7.926450749524911 and parameters: {'objective': 'reg:squarederror', 'tree_method': 'gpu_hist', 'lambda': 0.0023513494092192023, 'alpha': 1.8564103853632428, 'colsample_bytree': 0.37139528126242355, 'subsample': 0.5262197416773551, 'learning_rate': 0.03818110712947613, 'max_depth': 20, 'min_child_weight': 133, 'eval_metric': 'rmse'}. Best is trial 0 with value: 7.926450749524911.\u001b[0m\n",
      "[15:54:28] task [xgboost.dask]:tcp://127.0.0.1:33817 got new rank 0\n",
      "[15:54:28] task [xgboost.dask]:tcp://127.0.0.1:46483 got new rank 1\n",
      "[15:54:28] task [xgboost.dask]:tcp://127.0.0.1:34345 got new rank 2\n",
      "[15:54:28] task [xgboost.dask]:tcp://127.0.0.1:35441 got new rank 3\n",
      "\u001b[32m[I 2022-04-22 15:55:17,592]\u001b[0m Trial 1 finished with value: 8.102952031381362 and parameters: {'objective': 'reg:squarederror', 'tree_method': 'gpu_hist', 'lambda': 0.019102539443370762, 'alpha': 0.00246380461702328, 'colsample_bytree': 0.9417171398379418, 'subsample': 0.5967343851630915, 'learning_rate': 0.0011596035718578457, 'max_depth': 11, 'min_child_weight': 122, 'eval_metric': 'rmse'}. Best is trial 0 with value: 7.926450749524911.\u001b[0m\n",
      "[15:55:17] task [xgboost.dask]:tcp://127.0.0.1:35441 got new rank 0\n",
      "[15:55:17] task [xgboost.dask]:tcp://127.0.0.1:46483 got new rank 1\n",
      "[15:55:17] task [xgboost.dask]:tcp://127.0.0.1:33817 got new rank 2\n",
      "[15:55:17] task [xgboost.dask]:tcp://127.0.0.1:34345 got new rank 3\n",
      "\u001b[32m[I 2022-04-22 16:00:16,166]\u001b[0m Trial 2 finished with value: 7.907913324695248 and parameters: {'objective': 'reg:squarederror', 'tree_method': 'gpu_hist', 'lambda': 0.001354302501630917, 'alpha': 3.955382737723726, 'colsample_bytree': 0.7744278229736566, 'subsample': 0.9694046839505029, 'learning_rate': 0.046776651988533466, 'max_depth': 15, 'min_child_weight': 34, 'eval_metric': 'rmse'}. Best is trial 2 with value: 7.907913324695248.\u001b[0m\n"
     ]
    },
    {
     "name": "stdout",
     "output_type": "stream",
     "text": [
      "CPU times: user 29.9 s, sys: 14.3 s, total: 44.2 s\n",
      "Wall time: 8min 2s\n"
     ]
    }
   ],
   "source": [
    "%%time\n",
    "study.optimize(objective, n_trials=3)"
   ]
  },
  {
   "cell_type": "code",
   "execution_count": 13,
   "id": "7c8c1fa5-bc9e-43f7-ac62-0cef09245a36",
   "metadata": {},
   "outputs": [
    {
     "name": "stderr",
     "output_type": "stream",
     "text": [
      "[16:00:37] task [xgboost.dask]:tcp://127.0.0.1:46483 got new rank 0\n",
      "[16:00:37] task [xgboost.dask]:tcp://127.0.0.1:34345 got new rank 1\n",
      "[16:00:37] task [xgboost.dask]:tcp://127.0.0.1:35441 got new rank 2\n",
      "[16:00:37] task [xgboost.dask]:tcp://127.0.0.1:33817 got new rank 3\n",
      "\u001b[32m[I 2022-04-22 16:00:42,989]\u001b[0m Trial 3 finished with value: 7.844549097222731 and parameters: {'objective': 'reg:squarederror', 'tree_method': 'gpu_hist', 'lambda': 0.06546086525010585, 'alpha': 0.0020960132641948503, 'colsample_bytree': 0.7404806687689074, 'subsample': 0.6461640004616335, 'learning_rate': 0.014274852508671993, 'max_depth': 3, 'min_child_weight': 55, 'eval_metric': 'rmse'}. Best is trial 3 with value: 7.844549097222731.\u001b[0m\n",
      "[16:00:42] task [xgboost.dask]:tcp://127.0.0.1:33817 got new rank 0\n",
      "[16:00:42] task [xgboost.dask]:tcp://127.0.0.1:46483 got new rank 1\n",
      "[16:00:42] task [xgboost.dask]:tcp://127.0.0.1:35441 got new rank 2\n",
      "[16:00:42] task [xgboost.dask]:tcp://127.0.0.1:34345 got new rank 3\n",
      "\u001b[32m[I 2022-04-22 16:00:57,843]\u001b[0m Trial 4 finished with value: 7.853172014497082 and parameters: {'objective': 'reg:squarederror', 'tree_method': 'gpu_hist', 'lambda': 0.001276267933359165, 'alpha': 0.007723901404821981, 'colsample_bytree': 0.8352858831995575, 'subsample': 0.7082421952231577, 'learning_rate': 0.0039138464655108915, 'max_depth': 7, 'min_child_weight': 169, 'eval_metric': 'rmse'}. Best is trial 3 with value: 7.844549097222731.\u001b[0m\n",
      "[16:00:57] task [xgboost.dask]:tcp://127.0.0.1:46483 got new rank 0\n",
      "[16:00:57] task [xgboost.dask]:tcp://127.0.0.1:34345 got new rank 1\n",
      "[16:00:57] task [xgboost.dask]:tcp://127.0.0.1:33817 got new rank 2\n",
      "[16:00:57] task [xgboost.dask]:tcp://127.0.0.1:35441 got new rank 3\n",
      "\u001b[32m[I 2022-04-22 16:01:21,323]\u001b[0m Trial 5 finished with value: 7.824292831037872 and parameters: {'objective': 'reg:squarederror', 'tree_method': 'gpu_hist', 'lambda': 0.0948853917008883, 'alpha': 0.08698994992093756, 'colsample_bytree': 0.7551241398761813, 'subsample': 0.713647811236438, 'learning_rate': 0.007911434998047612, 'max_depth': 9, 'min_child_weight': 270, 'eval_metric': 'rmse'}. Best is trial 5 with value: 7.824292831037872.\u001b[0m\n",
      "[16:01:21] task [xgboost.dask]:tcp://127.0.0.1:33817 got new rank 0\n",
      "[16:01:21] task [xgboost.dask]:tcp://127.0.0.1:35441 got new rank 1\n",
      "[16:01:21] task [xgboost.dask]:tcp://127.0.0.1:34345 got new rank 2\n",
      "[16:01:21] task [xgboost.dask]:tcp://127.0.0.1:46483 got new rank 3\n",
      "\u001b[32m[I 2022-04-22 16:01:26,589]\u001b[0m Trial 6 finished with value: 8.081089178194864 and parameters: {'objective': 'reg:squarederror', 'tree_method': 'gpu_hist', 'lambda': 0.06417445217535835, 'alpha': 0.005367648976902764, 'colsample_bytree': 0.8796983903956388, 'subsample': 0.5991152002848279, 'learning_rate': 0.0012731023084062852, 'max_depth': 3, 'min_child_weight': 159, 'eval_metric': 'rmse'}. Best is trial 5 with value: 7.824292831037872.\u001b[0m\n",
      "[16:01:26] task [xgboost.dask]:tcp://127.0.0.1:34345 got new rank 0\n",
      "[16:01:26] task [xgboost.dask]:tcp://127.0.0.1:33817 got new rank 1\n",
      "[16:01:26] task [xgboost.dask]:tcp://127.0.0.1:46483 got new rank 2\n",
      "[16:01:26] task [xgboost.dask]:tcp://127.0.0.1:35441 got new rank 3\n",
      "\u001b[32m[I 2022-04-22 16:01:44,261]\u001b[0m Trial 7 finished with value: 7.841968525082128 and parameters: {'objective': 'reg:squarederror', 'tree_method': 'gpu_hist', 'lambda': 0.1666669068390425, 'alpha': 0.6557925235746941, 'colsample_bytree': 0.8425737841238992, 'subsample': 0.7762076039818748, 'learning_rate': 0.005640245494352228, 'max_depth': 7, 'min_child_weight': 34, 'eval_metric': 'rmse'}. Best is trial 5 with value: 7.824292831037872.\u001b[0m\n",
      "[16:01:44] task [xgboost.dask]:tcp://127.0.0.1:33817 got new rank 0\n",
      "[16:01:44] task [xgboost.dask]:tcp://127.0.0.1:34345 got new rank 1\n",
      "[16:01:44] task [xgboost.dask]:tcp://127.0.0.1:35441 got new rank 2\n",
      "[16:01:44] task [xgboost.dask]:tcp://127.0.0.1:46483 got new rank 3\n",
      "\u001b[32m[I 2022-04-22 16:07:07,892]\u001b[0m Trial 8 finished with value: 7.8463480650669295 and parameters: {'objective': 'reg:squarederror', 'tree_method': 'gpu_hist', 'lambda': 0.02725803153430293, 'alpha': 0.633877317728487, 'colsample_bytree': 0.927715088933176, 'subsample': 0.7898581383662044, 'learning_rate': 0.0026113245397959947, 'max_depth': 20, 'min_child_weight': 68, 'eval_metric': 'rmse'}. Best is trial 5 with value: 7.824292831037872.\u001b[0m\n",
      "[16:07:07] task [xgboost.dask]:tcp://127.0.0.1:35441 got new rank 0\n",
      "[16:07:07] task [xgboost.dask]:tcp://127.0.0.1:46483 got new rank 1\n",
      "[16:07:07] task [xgboost.dask]:tcp://127.0.0.1:33817 got new rank 2\n",
      "[16:07:07] task [xgboost.dask]:tcp://127.0.0.1:34345 got new rank 3\n",
      "\u001b[32m[I 2022-04-22 16:07:13,165]\u001b[0m Trial 9 finished with value: 7.850480536353789 and parameters: {'objective': 'reg:squarederror', 'tree_method': 'gpu_hist', 'lambda': 9.166989701590687, 'alpha': 0.042813390455928295, 'colsample_bytree': 0.9049253137484183, 'subsample': 0.5170298045606457, 'learning_rate': 0.011297589866501019, 'max_depth': 3, 'min_child_weight': 143, 'eval_metric': 'rmse'}. Best is trial 5 with value: 7.824292831037872.\u001b[0m\n",
      "[16:07:13] task [xgboost.dask]:tcp://127.0.0.1:33817 got new rank 0\n",
      "[16:07:13] task [xgboost.dask]:tcp://127.0.0.1:46483 got new rank 1\n",
      "[16:07:13] task [xgboost.dask]:tcp://127.0.0.1:34345 got new rank 2\n",
      "[16:07:13] task [xgboost.dask]:tcp://127.0.0.1:35441 got new rank 3\n",
      "\u001b[32m[I 2022-04-22 16:07:35,523]\u001b[0m Trial 10 finished with value: 7.81607655863431 and parameters: {'objective': 'reg:squarederror', 'tree_method': 'gpu_hist', 'lambda': 0.9135317408333924, 'alpha': 0.07625947847651775, 'colsample_bytree': 0.5819596012625932, 'subsample': 0.8981112847465205, 'learning_rate': 0.022033174026648852, 'max_depth': 9, 'min_child_weight': 300, 'eval_metric': 'rmse'}. Best is trial 10 with value: 7.81607655863431.\u001b[0m\n",
      "[16:07:35] task [xgboost.dask]:tcp://127.0.0.1:34345 got new rank 0\n",
      "[16:07:35] task [xgboost.dask]:tcp://127.0.0.1:33817 got new rank 1\n",
      "[16:07:35] task [xgboost.dask]:tcp://127.0.0.1:46483 got new rank 2\n",
      "[16:07:35] task [xgboost.dask]:tcp://127.0.0.1:35441 got new rank 3\n",
      "\u001b[32m[I 2022-04-22 16:07:57,847]\u001b[0m Trial 11 finished with value: 7.816108037618841 and parameters: {'objective': 'reg:squarederror', 'tree_method': 'gpu_hist', 'lambda': 0.9863653859096072, 'alpha': 0.05265282935773393, 'colsample_bytree': 0.5432554384345166, 'subsample': 0.9368842432785184, 'learning_rate': 0.019170771503392737, 'max_depth': 9, 'min_child_weight': 300, 'eval_metric': 'rmse'}. Best is trial 10 with value: 7.81607655863431.\u001b[0m\n",
      "[16:07:57] task [xgboost.dask]:tcp://127.0.0.1:33817 got new rank 0\n",
      "[16:07:57] task [xgboost.dask]:tcp://127.0.0.1:34345 got new rank 1\n",
      "[16:07:57] task [xgboost.dask]:tcp://127.0.0.1:35441 got new rank 2\n",
      "[16:07:57] task [xgboost.dask]:tcp://127.0.0.1:46483 got new rank 3\n",
      "\u001b[32m[I 2022-04-22 16:08:20,199]\u001b[0m Trial 12 finished with value: 7.8186229564424155 and parameters: {'objective': 'reg:squarederror', 'tree_method': 'gpu_hist', 'lambda': 1.2789830098181092, 'alpha': 0.02565493131740084, 'colsample_bytree': 0.528237543888515, 'subsample': 0.9738041723939197, 'learning_rate': 0.02039762865122546, 'max_depth': 9, 'min_child_weight': 294, 'eval_metric': 'rmse'}. Best is trial 10 with value: 7.81607655863431.\u001b[0m\n",
      "[16:08:20] task [xgboost.dask]:tcp://127.0.0.1:46483 got new rank 0\n",
      "[16:08:20] task [xgboost.dask]:tcp://127.0.0.1:34345 got new rank 1\n",
      "[16:08:20] task [xgboost.dask]:tcp://127.0.0.1:33817 got new rank 2\n",
      "[16:08:20] task [xgboost.dask]:tcp://127.0.0.1:35441 got new rank 3\n",
      "\u001b[32m[I 2022-04-22 16:08:44,998]\u001b[0m Trial 13 finished with value: 7.936890903222368 and parameters: {'objective': 'reg:squarederror', 'tree_method': 'gpu_hist', 'lambda': 0.9219890438699953, 'alpha': 0.22796287905497986, 'colsample_bytree': 0.5621041757794317, 'subsample': 0.879602439130753, 'learning_rate': 0.09609937698695437, 'max_depth': 9, 'min_child_weight': 235, 'eval_metric': 'rmse'}. Best is trial 10 with value: 7.81607655863431.\u001b[0m\n",
      "[16:08:45] task [xgboost.dask]:tcp://127.0.0.1:33817 got new rank 0\n",
      "[16:08:45] task [xgboost.dask]:tcp://127.0.0.1:46483 got new rank 1\n",
      "[16:08:45] task [xgboost.dask]:tcp://127.0.0.1:34345 got new rank 2\n",
      "[16:08:45] task [xgboost.dask]:tcp://127.0.0.1:35441 got new rank 3\n",
      "\u001b[32m[I 2022-04-22 16:10:16,730]\u001b[0m Trial 14 finished with value: 7.835724420629783 and parameters: {'objective': 'reg:squarederror', 'tree_method': 'gpu_hist', 'lambda': 1.192600216859175, 'alpha': 0.0145483561166871, 'colsample_bytree': 0.4354128780551139, 'subsample': 0.8888582622171717, 'learning_rate': 0.021994716491407336, 'max_depth': 17, 'min_child_weight': 226, 'eval_metric': 'rmse'}. Best is trial 10 with value: 7.81607655863431.\u001b[0m\n",
      "[16:10:16] task [xgboost.dask]:tcp://127.0.0.1:34345 got new rank 0\n",
      "[16:10:16] task [xgboost.dask]:tcp://127.0.0.1:46483 got new rank 1\n",
      "[16:10:16] task [xgboost.dask]:tcp://127.0.0.1:33817 got new rank 2\n",
      "[16:10:16] task [xgboost.dask]:tcp://127.0.0.1:35441 got new rank 3\n",
      "\u001b[32m[I 2022-04-22 16:10:24,643]\u001b[0m Trial 15 finished with value: 7.81682536607964 and parameters: {'objective': 'reg:squarederror', 'tree_method': 'gpu_hist', 'lambda': 9.341693500341927, 'alpha': 0.16552849730795258, 'colsample_bytree': 0.6434371687653355, 'subsample': 0.8875487792497307, 'learning_rate': 0.038918259618398475, 'max_depth': 5, 'min_child_weight': 227, 'eval_metric': 'rmse'}. Best is trial 10 with value: 7.81607655863431.\u001b[0m\n",
      "[16:10:24] task [xgboost.dask]:tcp://127.0.0.1:33817 got new rank 0\n",
      "[16:10:24] task [xgboost.dask]:tcp://127.0.0.1:46483 got new rank 1\n",
      "[16:10:24] task [xgboost.dask]:tcp://127.0.0.1:35441 got new rank 2\n",
      "[16:10:24] task [xgboost.dask]:tcp://127.0.0.1:34345 got new rank 3\n",
      "\u001b[32m[I 2022-04-22 16:11:03,505]\u001b[0m Trial 16 finished with value: 8.036287397905111 and parameters: {'objective': 'reg:squarederror', 'tree_method': 'gpu_hist', 'lambda': 0.3877700607854243, 'alpha': 0.06710461246106438, 'colsample_bytree': 0.5191585805062221, 'subsample': 0.42959903605779765, 'learning_rate': 0.0751331900228186, 'max_depth': 13, 'min_child_weight': 267, 'eval_metric': 'rmse'}. Best is trial 10 with value: 7.81607655863431.\u001b[0m\n",
      "[16:11:03] task [xgboost.dask]:tcp://127.0.0.1:46483 got new rank 0\n",
      "[16:11:03] task [xgboost.dask]:tcp://127.0.0.1:34345 got new rank 1\n",
      "[16:11:03] task [xgboost.dask]:tcp://127.0.0.1:35441 got new rank 2\n",
      "[16:11:03] task [xgboost.dask]:tcp://127.0.0.1:33817 got new rank 3\n",
      "\u001b[32m[I 2022-04-22 16:11:25,757]\u001b[0m Trial 17 finished with value: 7.817637336472611 and parameters: {'objective': 'reg:squarederror', 'tree_method': 'gpu_hist', 'lambda': 3.061634729707217, 'alpha': 0.4228901196068997, 'colsample_bytree': 0.6397736930520261, 'subsample': 0.8140092229372955, 'learning_rate': 0.022987599726573323, 'max_depth': 9, 'min_child_weight': 299, 'eval_metric': 'rmse'}. Best is trial 10 with value: 7.81607655863431.\u001b[0m\n"
     ]
    },
    {
     "name": "stdout",
     "output_type": "stream",
     "text": [
      "CPU times: user 26.4 s, sys: 6.57 s, total: 33 s\n",
      "Wall time: 10min 48s\n"
     ]
    },
    {
     "name": "stderr",
     "output_type": "stream",
     "text": [
      "/home/tunguz/.local/lib/python3.8/site-packages/dask_cuda/initialize.py:57: UserWarning: Worker with process ID 3520224 should have a CUDA context assigned to device GPU-58b97c92-e879-49d3-85b5-1d9615f10873, but instead the CUDA context is on device 1. This is often the result of a CUDA-enabled library calling a CUDA runtime function before Dask-CUDA can spawn worker processes. Please make sure any such function calls don't happen at import time or in the global scope of a program.\n",
      "  warnings.warn(\n",
      "/home/tunguz/.local/lib/python3.8/site-packages/dask_cuda/initialize.py:57: UserWarning: Worker with process ID 3520218 should have a CUDA context assigned to device GPU-a19c00c3-2832-fe38-1c43-c18db3e909da, but instead the CUDA context is on device 0. This is often the result of a CUDA-enabled library calling a CUDA runtime function before Dask-CUDA can spawn worker processes. Please make sure any such function calls don't happen at import time or in the global scope of a program.\n",
      "  warnings.warn(\n",
      "/home/tunguz/.local/lib/python3.8/site-packages/dask_cuda/initialize.py:57: UserWarning: Worker with process ID 3520221 should have a CUDA context assigned to device GPU-e3b349d7-ac6c-77ab-3564-ed9d05d50bac, but instead the CUDA context is on device 4. This is often the result of a CUDA-enabled library calling a CUDA runtime function before Dask-CUDA can spawn worker processes. Please make sure any such function calls don't happen at import time or in the global scope of a program.\n",
      "  warnings.warn(\n",
      "/home/tunguz/.local/lib/python3.8/site-packages/dask_cuda/initialize.py:57: UserWarning: Worker with process ID 3520226 should have a CUDA context assigned to device GPU-d21cfed4-2e1a-f313-839c-ea008aca027a, but instead the CUDA context is on device 2. This is often the result of a CUDA-enabled library calling a CUDA runtime function before Dask-CUDA can spawn worker processes. Please make sure any such function calls don't happen at import time or in the global scope of a program.\n",
      "  warnings.warn(\n"
     ]
    }
   ],
   "source": [
    "%%time\n",
    "study.optimize(objective, n_trials=15)"
   ]
  },
  {
   "cell_type": "code",
   "execution_count": null,
   "id": "9545ee14-1401-40a6-9362-73989df2a5dc",
   "metadata": {},
   "outputs": [],
   "source": []
  }
 ],
 "metadata": {
  "kernelspec": {
   "display_name": "Python 3 (ipykernel)",
   "language": "python",
   "name": "python3"
  },
  "language_info": {
   "codemirror_mode": {
    "name": "ipython",
    "version": 3
   },
   "file_extension": ".py",
   "mimetype": "text/x-python",
   "name": "python",
   "nbconvert_exporter": "python",
   "pygments_lexer": "ipython3",
   "version": "3.8.10"
  }
 },
 "nbformat": 4,
 "nbformat_minor": 5
}
